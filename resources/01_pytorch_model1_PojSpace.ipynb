{
  "nbformat": 4,
  "nbformat_minor": 0,
  "metadata": {
    "colab": {
      "provenance": [],
      "gpuType": "T4",
      "authorship_tag": "ABX9TyNqz3KslZFPMeusTa2TWG0X",
      "include_colab_link": true
    },
    "kernelspec": {
      "name": "python3",
      "display_name": "Python 3"
    },
    "language_info": {
      "name": "python"
    },
    "accelerator": "GPU"
  },
  "cells": [
    {
      "cell_type": "markdown",
      "metadata": {
        "id": "view-in-github",
        "colab_type": "text"
      },
      "source": [
        "<a href=\"https://colab.research.google.com/github/POJSpace/Deep_learning_pytorch/blob/main/resources/01_pytorch_model1_PojSpace.ipynb\" target=\"_parent\"><img src=\"https://colab.research.google.com/assets/colab-badge.svg\" alt=\"Open In Colab\"/></a>"
      ]
    },
    {
      "cell_type": "code",
      "execution_count": 44,
      "metadata": {
        "id": "baQKPqMU8b4E"
      },
      "outputs": [],
      "source": [
        "what_are_we_covering = {1: \"data (prepare and load)\",\n",
        "                    2: \"build model\",\n",
        "                    3: \"fiting the model to data\",\n",
        "                    4: \"evalueting model\",\n",
        "                    5: \"saving and loading the model\",\n",
        "                    6: \"putting it all together\"}"
      ]
    },
    {
      "cell_type": "markdown",
      "source": [
        "# First Neural Network Model"
      ],
      "metadata": {
        "id": "CuH80yql9aYM"
      }
    },
    {
      "cell_type": "code",
      "source": [
        "import torch\n",
        "from torch import nn # neural network graphs\n",
        "\n",
        "torch.__version__"
      ],
      "metadata": {
        "colab": {
          "base_uri": "https://localhost:8080/",
          "height": 35
        },
        "id": "aYqf7uF_9aE4",
        "outputId": "7f1ae9f2-b377-4d7c-a2fa-3fe6cdeed8fc"
      },
      "execution_count": 45,
      "outputs": [
        {
          "output_type": "execute_result",
          "data": {
            "text/plain": [
              "'2.1.0+cu118'"
            ],
            "application/vnd.google.colaboratory.intrinsic+json": {
              "type": "string"
            }
          },
          "metadata": {},
          "execution_count": 45
        }
      ]
    },
    {
      "cell_type": "code",
      "source": [
        "# Create known parameters for linear\n",
        "a = 0.7\n",
        "b = 0.3\n",
        "\n",
        "start = 0\n",
        "end = 1\n",
        "step = 0.02\n",
        "\n",
        "X = torch.arange(start,end,step).unsqueeze(1) # if you unsqueeze it on 1.dimension you get najs output of numbers, it makes najs list\n",
        "y = b + a * X # normal Linear function\n",
        "\n",
        "X_original = torch.arange(start,end,step)\n",
        "\n",
        "X[:10], y[:10], X_original[:10]"
      ],
      "metadata": {
        "colab": {
          "base_uri": "https://localhost:8080/"
        },
        "id": "v3CdnHQu9hAJ",
        "outputId": "6bd8a5b6-ec80-43fa-f28e-129bcc44215d"
      },
      "execution_count": 46,
      "outputs": [
        {
          "output_type": "execute_result",
          "data": {
            "text/plain": [
              "(tensor([[0.0000],\n",
              "         [0.0200],\n",
              "         [0.0400],\n",
              "         [0.0600],\n",
              "         [0.0800],\n",
              "         [0.1000],\n",
              "         [0.1200],\n",
              "         [0.1400],\n",
              "         [0.1600],\n",
              "         [0.1800]]),\n",
              " tensor([[0.3000],\n",
              "         [0.3140],\n",
              "         [0.3280],\n",
              "         [0.3420],\n",
              "         [0.3560],\n",
              "         [0.3700],\n",
              "         [0.3840],\n",
              "         [0.3980],\n",
              "         [0.4120],\n",
              "         [0.4260]]),\n",
              " tensor([0.0000, 0.0200, 0.0400, 0.0600, 0.0800, 0.1000, 0.1200, 0.1400, 0.1600,\n",
              "         0.1800]))"
            ]
          },
          "metadata": {},
          "execution_count": 46
        }
      ]
    },
    {
      "cell_type": "code",
      "source": [
        "train_split = int(0.8 * len(X)) # make 80%\n",
        "\n",
        "X_train, y_train = X[:train_split], y[:train_split] # make train dataset for x and y 80%\n",
        "X_test, y_test = X[train_split:], y[train_split:] # make test dataset for x and y 20%\n",
        "\n",
        "len(X_train), len(y_train), len(X_test), len(y_test)"
      ],
      "metadata": {
        "colab": {
          "base_uri": "https://localhost:8080/"
        },
        "id": "ZNiBcm9G9n0d",
        "outputId": "7667eedf-b0dc-464d-df39-9f88863a8337"
      },
      "execution_count": 47,
      "outputs": [
        {
          "output_type": "execute_result",
          "data": {
            "text/plain": [
              "(40, 40, 10, 10)"
            ]
          },
          "metadata": {},
          "execution_count": 47
        }
      ]
    },
    {
      "cell_type": "code",
      "source": [
        "import matplotlib.pyplot as plt\n",
        "\n",
        "def plt_predictions(train_data : torch.Tensor = X_train,\n",
        "                     train_labels : torch.Tensor = y_train,\n",
        "                     test_data : torch.Tensor = X_test,\n",
        "                     test_labels : torch.Tensor = y_test,\n",
        "                     predictions : torch.Tensor = None):\n",
        "  \"\"\"\n",
        "  Plots training data, test data amd compares predictions.\n",
        "\n",
        "  \"\"\"\n",
        "  plt.figure(figsize=(10,7)) # Size of a plot\n",
        "\n",
        "  plt.scatter(train_data, train_labels, c = \"b\", s = 4, label = \"Training data\") # draw dots from our tensor, plot dots with x and y position\n",
        "\n",
        "  plt.scatter(test_data, test_labels, c = \"g\", s = 4, label = \"Testing data\")\n",
        "\n",
        "\n",
        "  if predictions is not None:\n",
        "    plt.scatter(test_data,predictions, c=\"r\", s=4, label=\"Predictions\")\n",
        "\n",
        "  plt.legend(prop={\"size\": 10})"
      ],
      "metadata": {
        "id": "-xRinRNi-G3V"
      },
      "execution_count": 48,
      "outputs": []
    },
    {
      "cell_type": "code",
      "source": [
        "plt_predictions() # we can use it without parameters because a default one are same as ours"
      ],
      "metadata": {
        "colab": {
          "base_uri": "https://localhost:8080/",
          "height": 599
        },
        "id": "CM6sfTC7-vau",
        "outputId": "bdca8208-66cd-4603-b8de-1b1c6bd0c921"
      },
      "execution_count": 49,
      "outputs": [
        {
          "output_type": "display_data",
          "data": {
            "text/plain": [
              "<Figure size 1000x700 with 1 Axes>"
            ],
            "image/png": "[encoded data removed]"
          },
          "metadata": {}
        }
      ]
    },
    {
      "cell_type": "markdown",
      "source": [
        "# 1. Model\n"
      ],
      "metadata": {
        "id": "rJptGWP8idWn"
      }
    },
    {
      "cell_type": "code",
      "source": [
        "# Create liner regression model class\n",
        "class LinearRegressionModule(nn.Module): # <- everythink in PyTorch inherit from nn.Module\n",
        "  def __init__(self):\n",
        "    super().__init__()\n",
        "    self.weights = nn.Parameter(torch.randn(1,\n",
        "                                           requires_grad = True, #<- this tels that we can manipulate and change the variable\n",
        "                                           dtype = torch.float))\n",
        "    self.bias = nn.Parameter(torch.randn(1,\n",
        "                                        requires_grad=True,\n",
        "                                        dtype = torch.float))\n",
        "\n",
        "    # Forward method to define the computation in the model\n",
        "  def forward(self, x: torch.Tensor) -> torch.Tensor:# <- We need to overwrite this metod\n",
        "    return self.weights * x + self.bias\n"
      ],
      "metadata": {
        "id": "bG3vknGF-xur"
      },
      "execution_count": 50,
      "outputs": []
    },
    {
      "cell_type": "code",
      "source": [
        "torch.manual_seed(42) # it makes 1 seed and random functions will be same every time, it is used if you want to have same result as someone else\n",
        "\n",
        "# Create an instance of the model\n",
        "\n",
        "model_0 = LinearRegressionModule()\n",
        "list(model_0.parameters())"
      ],
      "metadata": {
        "colab": {
          "base_uri": "https://localhost:8080/"
        },
        "id": "Q5KKC5wY_MmD",
        "outputId": "f20e5868-cef2-4505-9881-ad9eb1aa1f41"
      },
      "execution_count": 51,
      "outputs": [
        {
          "output_type": "execute_result",
          "data": {
            "text/plain": [
              "[Parameter containing:\n",
              " tensor([0.3367], requires_grad=True),\n",
              " Parameter containing:\n",
              " tensor([0.1288], requires_grad=True)]"
            ]
          },
          "metadata": {},
          "execution_count": 51
        }
      ]
    },
    {
      "cell_type": "markdown",
      "source": [
        "# Making Predictions"
      ],
      "metadata": {
        "id": "LC6e0OBG_QAO"
      }
    },
    {
      "cell_type": "code",
      "source": [
        "# Make predictions with models\n",
        "\n",
        "with torch.inference_mode(): #<- this is lot faster if we dont need gradient\n",
        "  y_preds = model_0(X_test)\n",
        "\n",
        "y_preds"
      ],
      "metadata": {
        "colab": {
          "base_uri": "https://localhost:8080/"
        },
        "id": "jdqn-wK1_OJW",
        "outputId": "471c88d0-9787-4f84-e2ab-bc83b7631033"
      },
      "execution_count": 52,
      "outputs": [
        {
          "output_type": "execute_result",
          "data": {
            "text/plain": [
              "tensor([[0.3982],\n",
              "        [0.4049],\n",
              "        [0.4116],\n",
              "        [0.4184],\n",
              "        [0.4251],\n",
              "        [0.4318],\n",
              "        [0.4386],\n",
              "        [0.4453],\n",
              "        [0.4520],\n",
              "        [0.4588]])"
            ]
          },
          "metadata": {},
          "execution_count": 52
        }
      ]
    },
    {
      "cell_type": "code",
      "source": [
        "plt_predictions(predictions=y_preds)"
      ],
      "metadata": {
        "colab": {
          "base_uri": "https://localhost:8080/",
          "height": 599
        },
        "id": "xQ35T0h8_VJ_",
        "outputId": "5868238e-8ace-4369-b066-67aa20f74232"
      },
      "execution_count": 53,
      "outputs": [
        {
          "output_type": "display_data",
          "data": {
            "text/plain": [
              "<Figure size 1000x700 with 1 Axes>"
            ],
            "image/png": "[encoded data removed]"
          },
          "metadata": {}
        }
      ]
    },
    {
      "cell_type": "markdown",
      "source": [
        "# Learning\n"
      ],
      "metadata": {
        "id": "LrWjvJra_bGk"
      }
    },
    {
      "cell_type": "code",
      "source": [
        "# We need to use loss function\n",
        "loss_fn = nn.L1Loss()\n",
        "\n",
        "\n",
        "#Setup an optimizer\n",
        "optimizer = torch.optim.SGD(params = model_0.parameters(),\n",
        "                            lr = 0.01)"
      ],
      "metadata": {
        "id": "XQ_sGWPS_aUo"
      },
      "execution_count": 54,
      "outputs": []
    },
    {
      "cell_type": "markdown",
      "source": [
        "### Building a training loop (and testing)\n",
        "\n",
        "0. Loop through the data\n",
        "\n",
        "1. Forward pass goes through model\n",
        "\n",
        "2. Calculate the loss\n",
        "\n",
        "3. Optimize\n",
        "\n",
        "4. Loss backward like a reverse engeneering\n",
        "\n",
        "5. Optimizer step - Gradient descent"
      ],
      "metadata": {
        "id": "uMHAiAi6_h_d"
      }
    },
    {
      "cell_type": "code",
      "source": [
        "torch.manual_seed(42)\n",
        "\n",
        "epochs = 150\n",
        "\n",
        "epoch_count = []\n",
        "loss_values = []\n",
        "test_loss_values = []\n",
        "\n",
        "\n",
        "for epoch in range(epochs):\n",
        "\n",
        "  ### Training\n",
        "  model_0.train()\n",
        "\n",
        "  # 1. Forward pass = push data trought model\n",
        "  y_pred = model_0(X_train)\n",
        "\n",
        "  # 2. Loss\n",
        "  loss = loss_fn(y_pred, y_train)\n",
        "\n",
        "  # 3. optimizer\n",
        "  optimizer.zero_grad() # <-- now I got it. It means that it zeros the gradient that exist before because otherwise the gradient would be a combination of the old and new gradient, which you have already used to update your model parameters\n",
        "\n",
        "  # 4. backpropagation\n",
        "  loss.backward() # <-- updating the Weights and biases by given gradient\n",
        "\n",
        "  #5. Step optimizer\n",
        "  optimizer.step() # <-- optimalize loss by given learning rate\n",
        "\n",
        "\n",
        "\n",
        "  ### Testing\n",
        "  model_0.eval() #<- turns of difrent settings\n",
        "\n",
        "  with torch.inference_mode():\n",
        "    # 1. ForwardPass\n",
        "    test_preds = model_0(X_test)\n",
        "\n",
        "    # 2. Calculate the loss\n",
        "    test_loss = loss_fn(test_preds, y_test)\n",
        "\n",
        "\n",
        "  epoch_count.append(epoch)\n",
        "  loss_values.append(loss)\n",
        "  test_loss_values.append(test_loss)\n",
        "\n",
        "  print(f\"Epoch: {epoch + 1} | Loss: {loss} | Test loss: {loss}\")\n"
      ],
      "metadata": {
        "colab": {
          "base_uri": "https://localhost:8080/"
        },
        "id": "T32588Oc_ejn",
        "outputId": "f9624bab-99e9-4cd4-e8ae-698705631255"
      },
      "execution_count": 55,
      "outputs": [
        {
          "output_type": "stream",
          "name": "stdout",
          "text": [
            "Epoch: 1 | Loss: 0.31288138031959534 | Test loss: 0.31288138031959534\n",
            "Epoch: 2 | Loss: 0.3013603389263153 | Test loss: 0.3013603389263153\n",
            "Epoch: 3 | Loss: 0.28983935713768005 | Test loss: 0.28983935713768005\n",
            "Epoch: 4 | Loss: 0.2783183455467224 | Test loss: 0.2783183455467224\n",
            "Epoch: 5 | Loss: 0.26679736375808716 | Test loss: 0.26679736375808716\n",
            "Epoch: 6 | Loss: 0.2552763521671295 | Test loss: 0.2552763521671295\n",
            "Epoch: 7 | Loss: 0.24375534057617188 | Test loss: 0.24375534057617188\n",
            "Epoch: 8 | Loss: 0.23223432898521423 | Test loss: 0.23223432898521423\n",
            "Epoch: 9 | Loss: 0.22071333229541779 | Test loss: 0.22071333229541779\n",
            "Epoch: 10 | Loss: 0.20919232070446014 | Test loss: 0.20919232070446014\n",
            "Epoch: 11 | Loss: 0.1976713240146637 | Test loss: 0.1976713240146637\n",
            "Epoch: 12 | Loss: 0.18615034222602844 | Test loss: 0.18615034222602844\n",
            "Epoch: 13 | Loss: 0.1746293306350708 | Test loss: 0.1746293306350708\n",
            "Epoch: 14 | Loss: 0.16310831904411316 | Test loss: 0.16310831904411316\n",
            "Epoch: 15 | Loss: 0.1515873372554779 | Test loss: 0.1515873372554779\n",
            "Epoch: 16 | Loss: 0.14006635546684265 | Test loss: 0.14006635546684265\n",
            "Epoch: 17 | Loss: 0.1285453587770462 | Test loss: 0.1285453587770462\n",
            "Epoch: 18 | Loss: 0.11702437698841095 | Test loss: 0.11702437698841095\n",
            "Epoch: 19 | Loss: 0.1060912236571312 | Test loss: 0.1060912236571312\n",
            "Epoch: 20 | Loss: 0.09681284427642822 | Test loss: 0.09681284427642822\n",
            "Epoch: 21 | Loss: 0.08908725529909134 | Test loss: 0.08908725529909134\n",
            "Epoch: 22 | Loss: 0.08227583020925522 | Test loss: 0.08227583020925522\n",
            "Epoch: 23 | Loss: 0.07638873159885406 | Test loss: 0.07638873159885406\n",
            "Epoch: 24 | Loss: 0.07160007208585739 | Test loss: 0.07160007208585739\n",
            "Epoch: 25 | Loss: 0.06747635453939438 | Test loss: 0.06747635453939438\n",
            "Epoch: 26 | Loss: 0.06395438313484192 | Test loss: 0.06395438313484192\n",
            "Epoch: 27 | Loss: 0.06097004935145378 | Test loss: 0.06097004935145378\n",
            "Epoch: 28 | Loss: 0.05845819041132927 | Test loss: 0.05845819041132927\n",
            "Epoch: 29 | Loss: 0.05635259300470352 | Test loss: 0.05635259300470352\n",
            "Epoch: 30 | Loss: 0.0545857772231102 | Test loss: 0.0545857772231102\n",
            "Epoch: 31 | Loss: 0.053148526698350906 | Test loss: 0.053148526698350906\n",
            "Epoch: 32 | Loss: 0.05181945487856865 | Test loss: 0.05181945487856865\n",
            "Epoch: 33 | Loss: 0.05069301277399063 | Test loss: 0.05069301277399063\n",
            "Epoch: 34 | Loss: 0.0498228520154953 | Test loss: 0.0498228520154953\n",
            "Epoch: 35 | Loss: 0.04895269125699997 | Test loss: 0.04895269125699997\n",
            "Epoch: 36 | Loss: 0.04819351062178612 | Test loss: 0.04819351062178612\n",
            "Epoch: 37 | Loss: 0.047531817108392715 | Test loss: 0.047531817108392715\n",
            "Epoch: 38 | Loss: 0.04692792519927025 | Test loss: 0.04692792519927025\n",
            "Epoch: 39 | Loss: 0.04642331600189209 | Test loss: 0.04642331600189209\n",
            "Epoch: 40 | Loss: 0.04591871052980423 | Test loss: 0.04591871052980423\n",
            "Epoch: 41 | Loss: 0.04543796554207802 | Test loss: 0.04543796554207802\n",
            "Epoch: 42 | Loss: 0.04503796249628067 | Test loss: 0.04503796249628067\n",
            "Epoch: 43 | Loss: 0.04463795945048332 | Test loss: 0.04463795945048332\n",
            "Epoch: 44 | Loss: 0.04423796385526657 | Test loss: 0.04423796385526657\n",
            "Epoch: 45 | Loss: 0.04383796453475952 | Test loss: 0.04383796453475952\n",
            "Epoch: 46 | Loss: 0.04343796148896217 | Test loss: 0.04343796148896217\n",
            "Epoch: 47 | Loss: 0.043074630200862885 | Test loss: 0.043074630200862885\n",
            "Epoch: 48 | Loss: 0.04272563382983208 | Test loss: 0.04272563382983208\n",
            "Epoch: 49 | Loss: 0.04237663000822067 | Test loss: 0.04237663000822067\n",
            "Epoch: 50 | Loss: 0.04202762991189957 | Test loss: 0.04202762991189957\n",
            "Epoch: 51 | Loss: 0.04167863354086876 | Test loss: 0.04167863354086876\n",
            "Epoch: 52 | Loss: 0.04132963344454765 | Test loss: 0.04132963344454765\n",
            "Epoch: 53 | Loss: 0.04098063334822655 | Test loss: 0.04098063334822655\n",
            "Epoch: 54 | Loss: 0.04063162952661514 | Test loss: 0.04063162952661514\n",
            "Epoch: 55 | Loss: 0.040282636880874634 | Test loss: 0.040282636880874634\n",
            "Epoch: 56 | Loss: 0.039933640509843826 | Test loss: 0.039933640509843826\n",
            "Epoch: 57 | Loss: 0.03958464413881302 | Test loss: 0.03958464413881302\n",
            "Epoch: 58 | Loss: 0.03923564404249191 | Test loss: 0.03923564404249191\n",
            "Epoch: 59 | Loss: 0.03888664394617081 | Test loss: 0.03888664394617081\n",
            "Epoch: 60 | Loss: 0.0385376438498497 | Test loss: 0.0385376438498497\n",
            "Epoch: 61 | Loss: 0.03818932920694351 | Test loss: 0.03818932920694351\n",
            "Epoch: 62 | Loss: 0.03785243630409241 | Test loss: 0.03785243630409241\n",
            "Epoch: 63 | Loss: 0.0375034399330616 | Test loss: 0.0375034399330616\n",
            "Epoch: 64 | Loss: 0.037164121866226196 | Test loss: 0.037164121866226196\n",
            "Epoch: 65 | Loss: 0.03681822493672371 | Test loss: 0.03681822493672371\n",
            "Epoch: 66 | Loss: 0.03647511452436447 | Test loss: 0.03647511452436447\n",
            "Epoch: 67 | Loss: 0.03613303601741791 | Test loss: 0.03613303601741791\n",
            "Epoch: 68 | Loss: 0.03578609973192215 | Test loss: 0.03578609973192215\n",
            "Epoch: 69 | Loss: 0.03544783592224121 | Test loss: 0.03544783592224121\n",
            "Epoch: 70 | Loss: 0.035098835825920105 | Test loss: 0.035098835825920105\n",
            "Epoch: 71 | Loss: 0.03476089984178543 | Test loss: 0.03476089984178543\n",
            "Epoch: 72 | Loss: 0.03441363573074341 | Test loss: 0.03441363573074341\n",
            "Epoch: 73 | Loss: 0.03407188132405281 | Test loss: 0.03407188132405281\n",
            "Epoch: 74 | Loss: 0.03372843936085701 | Test loss: 0.03372843936085701\n",
            "Epoch: 75 | Loss: 0.03338287025690079 | Test loss: 0.03338287025690079\n",
            "Epoch: 76 | Loss: 0.033043231815099716 | Test loss: 0.033043231815099716\n",
            "Epoch: 77 | Loss: 0.03269423171877861 | Test loss: 0.03269423171877861\n",
            "Epoch: 78 | Loss: 0.032357655465602875 | Test loss: 0.032357655465602875\n",
            "Epoch: 79 | Loss: 0.03200903534889221 | Test loss: 0.03200903534889221\n",
            "Epoch: 80 | Loss: 0.03166864812374115 | Test loss: 0.03166864812374115\n",
            "Epoch: 81 | Loss: 0.03132382780313492 | Test loss: 0.03132382780313492\n",
            "Epoch: 82 | Loss: 0.030979642644524574 | Test loss: 0.030979642644524574\n",
            "Epoch: 83 | Loss: 0.030638623982667923 | Test loss: 0.030638623982667923\n",
            "Epoch: 84 | Loss: 0.0302906334400177 | Test loss: 0.0302906334400177\n",
            "Epoch: 85 | Loss: 0.029953425750136375 | Test loss: 0.029953425750136375\n",
            "Epoch: 86 | Loss: 0.02960442565381527 | Test loss: 0.02960442565381527\n",
            "Epoch: 87 | Loss: 0.029265418648719788 | Test loss: 0.029265418648719788\n",
            "Epoch: 88 | Loss: 0.028919223695993423 | Test loss: 0.028919223695993423\n",
            "Epoch: 89 | Loss: 0.028576409444212914 | Test loss: 0.028576409444212914\n",
            "Epoch: 90 | Loss: 0.028234025463461876 | Test loss: 0.028234025463461876\n",
            "Epoch: 91 | Loss: 0.02788739837706089 | Test loss: 0.02788739837706089\n",
            "Epoch: 92 | Loss: 0.02754882536828518 | Test loss: 0.02754882536828518\n",
            "Epoch: 93 | Loss: 0.027199819684028625 | Test loss: 0.027199819684028625\n",
            "Epoch: 94 | Loss: 0.026862185448408127 | Test loss: 0.026862185448408127\n",
            "Epoch: 95 | Loss: 0.02651461586356163 | Test loss: 0.02651461586356163\n",
            "Epoch: 96 | Loss: 0.026173178106546402 | Test loss: 0.026173178106546402\n",
            "Epoch: 97 | Loss: 0.025829419493675232 | Test loss: 0.025829419493675232\n",
            "Epoch: 98 | Loss: 0.02548416517674923 | Test loss: 0.02548416517674923\n",
            "Epoch: 99 | Loss: 0.025144213810563087 | Test loss: 0.025144213810563087\n",
            "Epoch: 100 | Loss: 0.02479521557688713 | Test loss: 0.02479521557688713\n",
            "Epoch: 101 | Loss: 0.024458957836031914 | Test loss: 0.024458957836031914\n",
            "Epoch: 102 | Loss: 0.024110013619065285 | Test loss: 0.024110013619065285\n",
            "Epoch: 103 | Loss: 0.02376994863152504 | Test loss: 0.02376994863152504\n",
            "Epoch: 104 | Loss: 0.02342480979859829 | Test loss: 0.02342480979859829\n",
            "Epoch: 105 | Loss: 0.023080935701727867 | Test loss: 0.023080935701727867\n",
            "Epoch: 106 | Loss: 0.022739607840776443 | Test loss: 0.022739607840776443\n",
            "Epoch: 107 | Loss: 0.022391926497220993 | Test loss: 0.022391926497220993\n",
            "Epoch: 108 | Loss: 0.022054409608244896 | Test loss: 0.022054409608244896\n",
            "Epoch: 109 | Loss: 0.02170540764927864 | Test loss: 0.02170540764927864\n",
            "Epoch: 110 | Loss: 0.021366719156503677 | Test loss: 0.021366719156503677\n",
            "Epoch: 111 | Loss: 0.021020207554101944 | Test loss: 0.021020207554101944\n",
            "Epoch: 112 | Loss: 0.020677709951996803 | Test loss: 0.020677709951996803\n",
            "Epoch: 113 | Loss: 0.02033500373363495 | Test loss: 0.02033500373363495\n",
            "Epoch: 114 | Loss: 0.01998869702219963 | Test loss: 0.01998869702219963\n",
            "Epoch: 115 | Loss: 0.019649803638458252 | Test loss: 0.019649803638458252\n",
            "Epoch: 116 | Loss: 0.019300809130072594 | Test loss: 0.019300809130072594\n",
            "Epoch: 117 | Loss: 0.018963487818837166 | Test loss: 0.018963487818837166\n",
            "Epoch: 118 | Loss: 0.01861560344696045 | Test loss: 0.01861560344696045\n",
            "Epoch: 119 | Loss: 0.018274478614330292 | Test loss: 0.018274478614330292\n",
            "Epoch: 120 | Loss: 0.017930403351783752 | Test loss: 0.017930403351783752\n",
            "Epoch: 121 | Loss: 0.01758546568453312 | Test loss: 0.01758546568453312\n",
            "Epoch: 122 | Loss: 0.017245199531316757 | Test loss: 0.017245199531316757\n",
            "Epoch: 123 | Loss: 0.016896454617381096 | Test loss: 0.016896454617381096\n",
            "Epoch: 124 | Loss: 0.01656000316143036 | Test loss: 0.01656000316143036\n",
            "Epoch: 125 | Loss: 0.016210997477173805 | Test loss: 0.016210997477173805\n",
            "Epoch: 126 | Loss: 0.01587124727666378 | Test loss: 0.01587124727666378\n",
            "Epoch: 127 | Loss: 0.015525798313319683 | Test loss: 0.015525798313319683\n",
            "Epoch: 128 | Loss: 0.015182236209511757 | Test loss: 0.015182236209511757\n",
            "Epoch: 129 | Loss: 0.014840595424175262 | Test loss: 0.014840595424175262\n",
            "Epoch: 130 | Loss: 0.01449323259294033 | Test loss: 0.01449323259294033\n",
            "Epoch: 131 | Loss: 0.014155393466353416 | Test loss: 0.014155393466353416\n",
            "Epoch: 132 | Loss: 0.013806397095322609 | Test loss: 0.013806397095322609\n",
            "Epoch: 133 | Loss: 0.013468016870319843 | Test loss: 0.013468016870319843\n",
            "Epoch: 134 | Loss: 0.013121193274855614 | Test loss: 0.013121193274855614\n",
            "Epoch: 135 | Loss: 0.01277900766581297 | Test loss: 0.01277900766581297\n",
            "Epoch: 136 | Loss: 0.012435992248356342 | Test loss: 0.012435992248356342\n",
            "Epoch: 137 | Loss: 0.01208999752998352 | Test loss: 0.01208999752998352\n",
            "Epoch: 138 | Loss: 0.011750795878469944 | Test loss: 0.011750795878469944\n",
            "Epoch: 139 | Loss: 0.011401787400245667 | Test loss: 0.011401787400245667\n",
            "Epoch: 140 | Loss: 0.011064787395298481 | Test loss: 0.011064787395298481\n",
            "Epoch: 141 | Loss: 0.010716589167714119 | Test loss: 0.010716589167714119\n",
            "Epoch: 142 | Loss: 0.010375778190791607 | Test loss: 0.010375778190791607\n",
            "Epoch: 143 | Loss: 0.010031387209892273 | Test loss: 0.010031387209892273\n",
            "Epoch: 144 | Loss: 0.009686763398349285 | Test loss: 0.009686763398349285\n",
            "Epoch: 145 | Loss: 0.009346187114715576 | Test loss: 0.009346187114715576\n",
            "Epoch: 146 | Loss: 0.008997755125164986 | Test loss: 0.008997755125164986\n",
            "Epoch: 147 | Loss: 0.008660981431603432 | Test loss: 0.008660981431603432\n",
            "Epoch: 148 | Loss: 0.008311985060572624 | Test loss: 0.008311985060572624\n",
            "Epoch: 149 | Loss: 0.007972544990479946 | Test loss: 0.007972544990479946\n",
            "Epoch: 150 | Loss: 0.007626785431057215 | Test loss: 0.007626785431057215\n"
          ]
        }
      ]
    },
    {
      "cell_type": "code",
      "source": [
        "with torch.inference_mode():\n",
        "  y_preds_new = model_0(X_test)"
      ],
      "metadata": {
        "id": "TW9xnUsw_lwZ"
      },
      "execution_count": 56,
      "outputs": []
    },
    {
      "cell_type": "code",
      "source": [
        "plt.plot(epoch_count, torch.tensor(test_loss_values).cpu().numpy(), label = \"test loss\") #function plot gets only tensors in cpu and not pytorch tensors but numpys tensor so because this we need to do this: torch.tensor(test_loss_values).cpu().numpy()\n",
        "plt.plot(epoch_count, torch.tensor(loss_values).cpu().numpy(), label = \"train loss\")\n",
        "plt.title(\"trainning\") # title\n",
        "plt.ylabel(\"Loss\")\n",
        "plt.xlabel(\"Epochs\")\n",
        "plt.legend()"
      ],
      "metadata": {
        "colab": {
          "base_uri": "https://localhost:8080/",
          "height": 489
        },
        "id": "NscZcWi7_nq1",
        "outputId": "a6448d6e-677a-4289-818b-de8ceec04f01"
      },
      "execution_count": 57,
      "outputs": [
        {
          "output_type": "execute_result",
          "data": {
            "text/plain": [
              "<matplotlib.legend.Legend at 0x7e967d52a2c0>"
            ]
          },
          "metadata": {},
          "execution_count": 57
        },
        {
          "output_type": "display_data",
          "data": {
            "text/plain": [
              "<Figure size 640x480 with 1 Axes>"
            ],
            "image/png": "[encoded data removed]"
          },
          "metadata": {}
        }
      ]
    },
    {
      "cell_type": "code",
      "source": [
        "plt_predictions(predictions=y_preds), plt_predictions(predictions=y_preds_new)"
      ],
      "metadata": {
        "colab": {
          "base_uri": "https://localhost:8080/",
          "height": 1000
        },
        "id": "y3fgtgGQ_quz",
        "outputId": "7d9fb0dc-1533-46f1-c402-58652d9426e4"
      },
      "execution_count": 58,
      "outputs": [
        {
          "output_type": "execute_result",
          "data": {
            "text/plain": [
              "(None, None)"
            ]
          },
          "metadata": {},
          "execution_count": 58
        },
        {
          "output_type": "display_data",
          "data": {
            "text/plain": [
              "<Figure size 1000x700 with 1 Axes>"
            ],
            "image/png": "[encoded data removed]"
          },
          "metadata": {}
        },
        {
          "output_type": "display_data",
          "data": {
            "text/plain": [
              "<Figure size 1000x700 with 1 Axes>"
            ],
            "image/png": "[encoded data removed]"
          },
          "metadata": {}
        }
      ]
    },
    {
      "cell_type": "markdown",
      "source": [
        "\n",
        "## Saving models in PyTorch\n",
        "\n",
        "1. torch.save() - save PyTorch project to pytohon pickle format\n",
        "2. torch.load() - load project\n",
        "3. torch.nn.Module.load_state_dic() - this allowes saves your models in state dic"
      ],
      "metadata": {
        "id": "sM249BDZ_wVr"
      }
    },
    {
      "cell_type": "code",
      "source": [
        "# Saving our PyTorch modul\n",
        "from pathlib import Path\n",
        "\n",
        "model_path = Path(\"models\") # get the path\n",
        "model_path.mkdir(parents = True, exist_ok = True) # make a dir\n",
        "\n",
        "model_name = \"01_PyTorch_workflow_model_0.pth\"\n",
        "model_save_path = model_path / model_name # path to the file\n",
        "\n",
        "torch.save(model_0.state_dict(), model_save_path) # save a model to given path"
      ],
      "metadata": {
        "id": "c3lEH_fD_yUk"
      },
      "execution_count": 59,
      "outputs": []
    },
    {
      "cell_type": "code",
      "source": [
        "torch.load(model_save_path) # our saved model"
      ],
      "metadata": {
        "colab": {
          "base_uri": "https://localhost:8080/"
        },
        "id": "N5WAllAD_0n-",
        "outputId": "e650c479-2804-477e-dcfb-b2b6d7000b4a"
      },
      "execution_count": 60,
      "outputs": [
        {
          "output_type": "execute_result",
          "data": {
            "text/plain": [
              "OrderedDict([('weights', tensor([0.6638])), ('bias', tensor([0.3153]))])"
            ]
          },
          "metadata": {},
          "execution_count": 60
        }
      ]
    },
    {
      "cell_type": "code",
      "source": [
        "model_0.state_dict() # our model in RAM"
      ],
      "metadata": {
        "colab": {
          "base_uri": "https://localhost:8080/"
        },
        "id": "8xT7rBPx_101",
        "outputId": "ccf48a41-c71f-4fbe-d0b6-beb937ce07e8"
      },
      "execution_count": 61,
      "outputs": [
        {
          "output_type": "execute_result",
          "data": {
            "text/plain": [
              "OrderedDict([('weights', tensor([0.6638])), ('bias', tensor([0.3153]))])"
            ]
          },
          "metadata": {},
          "execution_count": 61
        }
      ]
    },
    {
      "cell_type": "code",
      "source": [
        "loaded_model_0 = LinearRegressionModule() # if we load our model we just have a params of it, we also need a model structure\n",
        "\n",
        "loaded_model_0.load_state_dict(torch.load(model_save_path)) # now we load a params to model structure"
      ],
      "metadata": {
        "colab": {
          "base_uri": "https://localhost:8080/"
        },
        "id": "9NykCL09_3FT",
        "outputId": "d82d2429-6ab4-4ac7-9b51-2454813b96bb"
      },
      "execution_count": 62,
      "outputs": [
        {
          "output_type": "execute_result",
          "data": {
            "text/plain": [
              "<All keys matched successfully>"
            ]
          },
          "metadata": {},
          "execution_count": 62
        }
      ]
    },
    {
      "cell_type": "code",
      "source": [
        "loaded_model_0.state_dict() # get the params"
      ],
      "metadata": {
        "colab": {
          "base_uri": "https://localhost:8080/"
        },
        "id": "XpfDSWD__4VW",
        "outputId": "6be0fd21-05c0-4952-a3af-51aa5d7a7ea2"
      },
      "execution_count": 63,
      "outputs": [
        {
          "output_type": "execute_result",
          "data": {
            "text/plain": [
              "OrderedDict([('weights', tensor([0.6638])), ('bias', tensor([0.3153]))])"
            ]
          },
          "metadata": {},
          "execution_count": 63
        }
      ]
    },
    {
      "cell_type": "code",
      "source": [
        "# How to make predictions\n",
        "loaded_model_0.eval()\n",
        "with torch.inference_mode():\n",
        "  loaded_model_preds = loaded_model_0(X_test)\n",
        "\n",
        "y_preds_new == loaded_model_preds # we can compare a results from our model and saved model"
      ],
      "metadata": {
        "colab": {
          "base_uri": "https://localhost:8080/"
        },
        "id": "Ft7izSLZ_5fn",
        "outputId": "c169a379-8a91-49fa-c2b1-ecb8c93cef51"
      },
      "execution_count": 65,
      "outputs": [
        {
          "output_type": "execute_result",
          "data": {
            "text/plain": [
              "tensor([[True],\n",
              "        [True],\n",
              "        [True],\n",
              "        [True],\n",
              "        [True],\n",
              "        [True],\n",
              "        [True],\n",
              "        [True],\n",
              "        [True],\n",
              "        [True]])"
            ]
          },
          "metadata": {},
          "execution_count": 65
        }
      ]
    },
    {
      "cell_type": "code",
      "source": [],
      "metadata": {
        "id": "C8hm5wPUG9gV"
      },
      "execution_count": null,
      "outputs": []
    }
  ]
}